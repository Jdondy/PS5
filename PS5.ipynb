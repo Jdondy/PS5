{
 "cells": [
  {
   "cell_type": "markdown",
   "id": "735cc49f-b246-4adc-9325-50f18329b04d",
   "metadata": {},
   "source": [
    "# Problem Set 5"
   ]
  },
  {
   "cell_type": "code",
   "execution_count": 514,
   "id": "7b4f7921-c020-47aa-9ce4-dbce1fdaafc8",
   "metadata": {},
   "outputs": [],
   "source": [
    "import pandas as pd\n",
    "pd.options.mode.chained_assignment = None \n",
    "import matplotlib.pyplot as plt\n",
    "import seaborn as sns\n",
    "import numpy as np\n",
    "import statsmodels.formula.api as smf"
   ]
  },
  {
   "cell_type": "markdown",
   "id": "80df9945-b95b-473c-b66f-045e0e1dbd2b",
   "metadata": {},
   "source": [
    "## 1. When Will we see BOE?\n",
    "#### 1."
   ]
  },
  {
   "cell_type": "code",
   "execution_count": 515,
   "id": "80af9d55-54fc-46c7-b2b4-56ba3d21ba0e",
   "metadata": {
    "tags": []
   },
   "outputs": [
    {
     "data": {
      "text/html": [
       "<div>\n",
       "<style scoped>\n",
       "    .dataframe tbody tr th:only-of-type {\n",
       "        vertical-align: middle;\n",
       "    }\n",
       "\n",
       "    .dataframe tbody tr th {\n",
       "        vertical-align: top;\n",
       "    }\n",
       "\n",
       "    .dataframe thead th {\n",
       "        text-align: right;\n",
       "    }\n",
       "</style>\n",
       "<table border=\"1\" class=\"dataframe\">\n",
       "  <thead>\n",
       "    <tr style=\"text-align: right;\">\n",
       "      <th></th>\n",
       "      <th>year</th>\n",
       "      <th>month</th>\n",
       "      <th>data-type</th>\n",
       "      <th>region</th>\n",
       "      <th>extent</th>\n",
       "      <th>area</th>\n",
       "      <th>time</th>\n",
       "    </tr>\n",
       "  </thead>\n",
       "  <tbody>\n",
       "    <tr>\n",
       "      <th>0</th>\n",
       "      <td>1978</td>\n",
       "      <td>11</td>\n",
       "      <td>Goddard</td>\n",
       "      <td>N</td>\n",
       "      <td>11.65</td>\n",
       "      <td>9.04</td>\n",
       "      <td>1978.875000</td>\n",
       "    </tr>\n",
       "    <tr>\n",
       "      <th>2</th>\n",
       "      <td>1978</td>\n",
       "      <td>12</td>\n",
       "      <td>Goddard</td>\n",
       "      <td>N</td>\n",
       "      <td>13.67</td>\n",
       "      <td>10.90</td>\n",
       "      <td>1978.958333</td>\n",
       "    </tr>\n",
       "    <tr>\n",
       "      <th>4</th>\n",
       "      <td>1979</td>\n",
       "      <td>1</td>\n",
       "      <td>Goddard</td>\n",
       "      <td>N</td>\n",
       "      <td>15.41</td>\n",
       "      <td>12.41</td>\n",
       "      <td>1979.041667</td>\n",
       "    </tr>\n",
       "    <tr>\n",
       "      <th>6</th>\n",
       "      <td>1979</td>\n",
       "      <td>2</td>\n",
       "      <td>Goddard</td>\n",
       "      <td>N</td>\n",
       "      <td>16.18</td>\n",
       "      <td>13.18</td>\n",
       "      <td>1979.125000</td>\n",
       "    </tr>\n",
       "    <tr>\n",
       "      <th>8</th>\n",
       "      <td>1979</td>\n",
       "      <td>3</td>\n",
       "      <td>Goddard</td>\n",
       "      <td>N</td>\n",
       "      <td>16.34</td>\n",
       "      <td>13.21</td>\n",
       "      <td>1979.208333</td>\n",
       "    </tr>\n",
       "  </tbody>\n",
       "</table>\n",
       "</div>"
      ],
      "text/plain": [
       "   year  month data-type region  extent   area         time\n",
       "0  1978     11   Goddard      N   11.65   9.04  1978.875000\n",
       "2  1978     12   Goddard      N   13.67  10.90  1978.958333\n",
       "4  1979      1   Goddard      N   15.41  12.41  1979.041667\n",
       "6  1979      2   Goddard      N   16.18  13.18  1979.125000\n",
       "8  1979      3   Goddard      N   16.34  13.21  1979.208333"
      ]
     },
     "execution_count": 515,
     "metadata": {},
     "output_type": "execute_result"
    }
   ],
   "source": [
    "ice = pd.read_csv(\"../Data/ice-extent.csv.bz2\", sep = \"\\t\")\n",
    "iceN = ice[ice[\"region\"] == \"N\"]\n",
    "iceN.drop(iceN.index[iceN['extent'] == -9999], inplace = True)\n",
    "[~iceN.isna()]\n",
    "iceN.head()"
   ]
  },
  {
   "cell_type": "markdown",
   "id": "f2d0d05a-70da-4eb6-8910-8c4a11c57fe4",
   "metadata": {},
   "source": [
    "#### 2."
   ]
  },
  {
   "cell_type": "code",
   "execution_count": 249,
   "id": "e5f320fc-cd12-4a01-93fd-c42c84b8497d",
   "metadata": {},
   "outputs": [
    {
     "data": {
      "image/png": "[encoded data removed]",
      "text/plain": [
       "<Figure size 432x288 with 1 Axes>"
      ]
     },
     "metadata": {
      "needs_background": "light"
     },
     "output_type": "display_data"
    }
   ],
   "source": [
    "ice9 = iceN[iceN[\"month\"] == 9]\n",
    "ice12 = iceN[iceN[\"month\"] == 12]\n",
    "ice4 = iceN[iceN[\"month\"] == 4]\n",
    "iceG = pd.concat([ice4, ice9, ice12])\n",
    "_ = plt.plot(ice9.year, ice9.extent, label = \"September\")\n",
    "_ = plt.plot(ice4.year, ice4.extent, label = \"March\")\n",
    "_ = plt.plot(ice12.year, ice12.extent, label = \"December\")"
   ]
  },
  {
   "cell_type": "markdown",
   "id": "e0d2fb5d-dd90-4ea4-982d-b62428af201e",
   "metadata": {},
   "source": [
    "##### Blue line = September, Yellow line = March, Green line = December\n",
    "Separate plots:\n",
    "#### September"
   ]
  },
  {
   "cell_type": "code",
   "execution_count": 228,
   "id": "e48b79eb-d289-48d6-b0a3-13f1f480344a",
   "metadata": {},
   "outputs": [
    {
     "data": {
      "image/png": "[encoded data removed]",
      "text/plain": [
       "<Figure size 432x288 with 1 Axes>"
      ]
     },
     "metadata": {
      "needs_background": "light"
     },
     "output_type": "display_data"
    }
   ],
   "source": [
    "_ = sns.regplot(x = \"year\", y = \"extent\",\n",
    "                line_kws = {\"color\":\"red\"}, data = ice9)"
   ]
  },
  {
   "cell_type": "markdown",
   "id": "2589fe17-63bf-4cdd-872f-1cb2925d54bd",
   "metadata": {},
   "source": [
    "#### March"
   ]
  },
  {
   "cell_type": "code",
   "execution_count": 229,
   "id": "90e35032-2aaa-412a-9d1f-313a1ea66a62",
   "metadata": {},
   "outputs": [
    {
     "data": {
      "image/png": "[encoded data removed]",
      "text/plain": [
       "<Figure size 432x288 with 1 Axes>"
      ]
     },
     "metadata": {
      "needs_background": "light"
     },
     "output_type": "display_data"
    }
   ],
   "source": [
    "_ = sns.regplot(x = \"year\", y = \"extent\",\n",
    "                line_kws = {\"color\":\"red\"}, data = ice4)"
   ]
  },
  {
   "cell_type": "markdown",
   "id": "93e6d671-8aa7-4e63-9e4e-c2ac38975b80",
   "metadata": {},
   "source": [
    "#### December"
   ]
  },
  {
   "cell_type": "code",
   "execution_count": 230,
   "id": "2e3123cf-b232-4ab4-8b7a-d8cb80274a97",
   "metadata": {},
   "outputs": [
    {
     "data": {
      "image/png": "[encoded data removed]",
      "text/plain": [
       "<Figure size 432x288 with 1 Axes>"
      ]
     },
     "metadata": {
      "needs_background": "light"
     },
     "output_type": "display_data"
    }
   ],
   "source": [
    "_ = sns.regplot(x = \"year\", y = \"extent\",\n",
    "                line_kws = {\"color\":\"red\"}, data = ice12)"
   ]
  },
  {
   "cell_type": "markdown",
   "id": "043b31a9-e929-403b-9057-5147b4b9182c",
   "metadata": {},
   "source": [
    "#### 3."
   ]
  },
  {
   "cell_type": "code",
   "execution_count": 243,
   "id": "8a4e64a6-80d0-45eb-b4ec-0f12ad5d777f",
   "metadata": {},
   "outputs": [
    {
     "name": "stderr",
     "output_type": "stream",
     "text": [
      "/opt/conda/lib/python3.9/site-packages/pandas/core/generic.py:5516: SettingWithCopyWarning: \n",
      "A value is trying to be set on a copy of a slice from a DataFrame.\n",
      "Try using .loc[row_indexer,col_indexer] = value instead\n",
      "\n",
      "See the caveats in the documentation: https://pandas.pydata.org/pandas-docs/stable/user_guide/indexing.html#returning-a-view-versus-a-copy\n",
      "  self[name] = value\n"
     ]
    },
    {
     "data": {
      "text/html": [
       "<table class=\"simpletable\">\n",
       "<caption>OLS Regression Results</caption>\n",
       "<tr>\n",
       "  <th>Dep. Variable:</th>         <td>extent</td>      <th>  R-squared:         </th> <td>   0.793</td>\n",
       "</tr>\n",
       "<tr>\n",
       "  <th>Model:</th>                   <td>OLS</td>       <th>  Adj. R-squared:    </th> <td>   0.788</td>\n",
       "</tr>\n",
       "<tr>\n",
       "  <th>Method:</th>             <td>Least Squares</td>  <th>  F-statistic:       </th> <td>   157.5</td>\n",
       "</tr>\n",
       "<tr>\n",
       "  <th>Date:</th>             <td>Sun, 20 Feb 2022</td> <th>  Prob (F-statistic):</th> <td>1.25e-15</td>\n",
       "</tr>\n",
       "<tr>\n",
       "  <th>Time:</th>                 <td>23:17:14</td>     <th>  Log-Likelihood:    </th> <td> -32.417</td>\n",
       "</tr>\n",
       "<tr>\n",
       "  <th>No. Observations:</th>      <td>    43</td>      <th>  AIC:               </th> <td>   68.83</td>\n",
       "</tr>\n",
       "<tr>\n",
       "  <th>Df Residuals:</th>          <td>    41</td>      <th>  BIC:               </th> <td>   72.36</td>\n",
       "</tr>\n",
       "<tr>\n",
       "  <th>Df Model:</th>              <td>     1</td>      <th>                     </th>     <td> </td>   \n",
       "</tr>\n",
       "<tr>\n",
       "  <th>Covariance Type:</th>      <td>nonrobust</td>    <th>                     </th>     <td> </td>   \n",
       "</tr>\n",
       "</table>\n",
       "<table class=\"simpletable\">\n",
       "<tr>\n",
       "      <td></td>         <th>coef</th>     <th>std err</th>      <th>t</th>      <th>P>|t|</th>  <th>[0.025</th>    <th>0.975]</th>  \n",
       "</tr>\n",
       "<tr>\n",
       "  <th>Intercept</th> <td>    5.9935</td> <td>    0.080</td> <td>   74.629</td> <td> 0.000</td> <td>    5.831</td> <td>    6.156</td>\n",
       "</tr>\n",
       "<tr>\n",
       "  <th>year</th>      <td>   -0.0812</td> <td>    0.006</td> <td>  -12.551</td> <td> 0.000</td> <td>   -0.094</td> <td>   -0.068</td>\n",
       "</tr>\n",
       "</table>\n",
       "<table class=\"simpletable\">\n",
       "<tr>\n",
       "  <th>Omnibus:</th>       <td> 2.573</td> <th>  Durbin-Watson:     </th> <td>   1.727</td>\n",
       "</tr>\n",
       "<tr>\n",
       "  <th>Prob(Omnibus):</th> <td> 0.276</td> <th>  Jarque-Bera (JB):  </th> <td>   1.525</td>\n",
       "</tr>\n",
       "<tr>\n",
       "  <th>Skew:</th>          <td>-0.324</td> <th>  Prob(JB):          </th> <td>   0.467</td>\n",
       "</tr>\n",
       "<tr>\n",
       "  <th>Kurtosis:</th>      <td> 3.656</td> <th>  Cond. No.          </th> <td>    12.4</td>\n",
       "</tr>\n",
       "</table><br/><br/>Notes:<br/>[1] Standard Errors assume that the covariance matrix of the errors is correctly specified."
      ],
      "text/plain": [
       "<class 'statsmodels.iolib.summary.Summary'>\n",
       "\"\"\"\n",
       "                            OLS Regression Results                            \n",
       "==============================================================================\n",
       "Dep. Variable:                 extent   R-squared:                       0.793\n",
       "Model:                            OLS   Adj. R-squared:                  0.788\n",
       "Method:                 Least Squares   F-statistic:                     157.5\n",
       "Date:                Sun, 20 Feb 2022   Prob (F-statistic):           1.25e-15\n",
       "Time:                        23:17:14   Log-Likelihood:                -32.417\n",
       "No. Observations:                  43   AIC:                             68.83\n",
       "Df Residuals:                      41   BIC:                             72.36\n",
       "Df Model:                           1                                         \n",
       "Covariance Type:            nonrobust                                         \n",
       "==============================================================================\n",
       "                 coef    std err          t      P>|t|      [0.025      0.975]\n",
       "------------------------------------------------------------------------------\n",
       "Intercept      5.9935      0.080     74.629      0.000       5.831       6.156\n",
       "year          -0.0812      0.006    -12.551      0.000      -0.094      -0.068\n",
       "==============================================================================\n",
       "Omnibus:                        2.573   Durbin-Watson:                   1.727\n",
       "Prob(Omnibus):                  0.276   Jarque-Bera (JB):                1.525\n",
       "Skew:                          -0.324   Prob(JB):                        0.467\n",
       "Kurtosis:                       3.656   Cond. No.                         12.4\n",
       "==============================================================================\n",
       "\n",
       "Notes:\n",
       "[1] Standard Errors assume that the covariance matrix of the errors is correctly specified.\n",
       "\"\"\""
      ]
     },
     "execution_count": 243,
     "metadata": {},
     "output_type": "execute_result"
    }
   ],
   "source": [
    "ice9.year = ice9.year - 2000\n",
    "m = smf.ols(\"extent ~ year\", data = ice9).fit()\n",
    "m.summary()\n",
    "#DONT RUN AGAIN"
   ]
  },
  {
   "cell_type": "markdown",
   "id": "54f7c849-89bd-4625-a184-f663096573e8",
   "metadata": {},
   "source": [
    "#### 4.\n",
    "The y-intercept represents the ice extent at year 200 (5.9935). Each year, the ice extent decreases by 0.0812. i.e. in the year 2001 the value for extent is 5.9935 - 0.0812. The data is statistically significant (p < 0.05 etc.)."
   ]
  },
  {
   "cell_type": "markdown",
   "id": "d9ec5772-bfb8-4689-a8dd-5c289e8c8343",
   "metadata": {},
   "source": [
    "#### 5."
   ]
  },
  {
   "cell_type": "markdown",
   "id": "a732f9bd-a74e-45f3-8789-caa8a2f3f823",
   "metadata": {},
   "source": [
    "If we were not using years relative to 2000, the intercept would be essentially meaningless, as it represnents the extent when time = 0. Using years relative to 2000 lets us have a significant intercept, as 0 would be the year 2000."
   ]
  },
  {
   "cell_type": "markdown",
   "id": "e9abdfb6-999f-490b-b114-b0658eb220bc",
   "metadata": {},
   "source": [
    "#### 6."
   ]
  },
  {
   "cell_type": "code",
   "execution_count": 245,
   "id": "56ad7659-8733-4f47-b408-88e633002023",
   "metadata": {},
   "outputs": [
    {
     "data": {
      "image/png": "[encoded data removed]",
      "text/plain": [
       "<Figure size 432x288 with 1 Axes>"
      ]
     },
     "metadata": {
      "needs_background": "light"
     },
     "output_type": "display_data"
    }
   ],
   "source": [
    "_ = sns.regplot(x = \"year\", y = \"extent\",\n",
    "                line_kws = {\"color\":\"red\"}, data = ice9)"
   ]
  },
  {
   "cell_type": "markdown",
   "id": "b6e1b51b-6830-413a-80ab-19b0a84077c4",
   "metadata": {},
   "source": [
    "We can clearly see a downward trend here, it's hard to tell, but it seems like the downward slope may be accelerating as time goes on."
   ]
  },
  {
   "cell_type": "markdown",
   "id": "5b9ccf90-0641-42e3-a7e4-fcc9f984e5f9",
   "metadata": {},
   "source": [
    "#### 7."
   ]
  },
  {
   "cell_type": "markdown",
   "id": "c891921f-6306-4785-a096-4ad170816972",
   "metadata": {},
   "source": [
    "Equation of regression: y = -0.0812x + 5.9935, plugging 0 into y gives: ~73.81 years after 2000 when we will see a BOE (about 2073)."
   ]
  },
  {
   "cell_type": "markdown",
   "id": "6acc8c03-22ea-42bf-abeb-3aeb017d4a47",
   "metadata": {},
   "source": [
    "#### 8."
   ]
  },
  {
   "cell_type": "code",
   "execution_count": 250,
   "id": "d6a43337-144b-4d48-a9a1-88a3b215918c",
   "metadata": {},
   "outputs": [
    {
     "name": "stderr",
     "output_type": "stream",
     "text": [
      "/opt/conda/lib/python3.9/site-packages/pandas/core/generic.py:5516: SettingWithCopyWarning: \n",
      "A value is trying to be set on a copy of a slice from a DataFrame.\n",
      "Try using .loc[row_indexer,col_indexer] = value instead\n",
      "\n",
      "See the caveats in the documentation: https://pandas.pydata.org/pandas-docs/stable/user_guide/indexing.html#returning-a-view-versus-a-copy\n",
      "  self[name] = value\n"
     ]
    },
    {
     "data": {
      "text/html": [
       "<table class=\"simpletable\">\n",
       "<caption>OLS Regression Results</caption>\n",
       "<tr>\n",
       "  <th>Dep. Variable:</th>         <td>extent</td>      <th>  R-squared:         </th> <td>   0.755</td>\n",
       "</tr>\n",
       "<tr>\n",
       "  <th>Model:</th>                   <td>OLS</td>       <th>  Adj. R-squared:    </th> <td>   0.750</td>\n",
       "</tr>\n",
       "<tr>\n",
       "  <th>Method:</th>             <td>Least Squares</td>  <th>  F-statistic:       </th> <td>   126.7</td>\n",
       "</tr>\n",
       "<tr>\n",
       "  <th>Date:</th>             <td>Mon, 21 Feb 2022</td> <th>  Prob (F-statistic):</th> <td>4.08e-14</td>\n",
       "</tr>\n",
       "<tr>\n",
       "  <th>Time:</th>                 <td>02:58:14</td>     <th>  Log-Likelihood:    </th> <td> -5.4465</td>\n",
       "</tr>\n",
       "<tr>\n",
       "  <th>No. Observations:</th>      <td>    43</td>      <th>  AIC:               </th> <td>   14.89</td>\n",
       "</tr>\n",
       "<tr>\n",
       "  <th>Df Residuals:</th>          <td>    41</td>      <th>  BIC:               </th> <td>   18.42</td>\n",
       "</tr>\n",
       "<tr>\n",
       "  <th>Df Model:</th>              <td>     1</td>      <th>                     </th>     <td> </td>   \n",
       "</tr>\n",
       "<tr>\n",
       "  <th>Covariance Type:</th>      <td>nonrobust</td>    <th>                     </th>     <td> </td>   \n",
       "</tr>\n",
       "</table>\n",
       "<table class=\"simpletable\">\n",
       "<tr>\n",
       "      <td></td>         <th>coef</th>     <th>std err</th>      <th>t</th>      <th>P>|t|</th>  <th>[0.025</th>    <th>0.975]</th>  \n",
       "</tr>\n",
       "<tr>\n",
       "  <th>Intercept</th> <td>   14.5256</td> <td>    0.043</td> <td>  338.652</td> <td> 0.000</td> <td>   14.439</td> <td>   14.612</td>\n",
       "</tr>\n",
       "<tr>\n",
       "  <th>year</th>      <td>   -0.0389</td> <td>    0.003</td> <td>  -11.255</td> <td> 0.000</td> <td>   -0.046</td> <td>   -0.032</td>\n",
       "</tr>\n",
       "</table>\n",
       "<table class=\"simpletable\">\n",
       "<tr>\n",
       "  <th>Omnibus:</th>       <td> 0.216</td> <th>  Durbin-Watson:     </th> <td>   1.387</td>\n",
       "</tr>\n",
       "<tr>\n",
       "  <th>Prob(Omnibus):</th> <td> 0.897</td> <th>  Jarque-Bera (JB):  </th> <td>   0.419</td>\n",
       "</tr>\n",
       "<tr>\n",
       "  <th>Skew:</th>          <td> 0.016</td> <th>  Prob(JB):          </th> <td>   0.811</td>\n",
       "</tr>\n",
       "<tr>\n",
       "  <th>Kurtosis:</th>      <td> 2.517</td> <th>  Cond. No.          </th> <td>    12.4</td>\n",
       "</tr>\n",
       "</table><br/><br/>Notes:<br/>[1] Standard Errors assume that the covariance matrix of the errors is correctly specified."
      ],
      "text/plain": [
       "<class 'statsmodels.iolib.summary.Summary'>\n",
       "\"\"\"\n",
       "                            OLS Regression Results                            \n",
       "==============================================================================\n",
       "Dep. Variable:                 extent   R-squared:                       0.755\n",
       "Model:                            OLS   Adj. R-squared:                  0.750\n",
       "Method:                 Least Squares   F-statistic:                     126.7\n",
       "Date:                Mon, 21 Feb 2022   Prob (F-statistic):           4.08e-14\n",
       "Time:                        02:58:14   Log-Likelihood:                -5.4465\n",
       "No. Observations:                  43   AIC:                             14.89\n",
       "Df Residuals:                      41   BIC:                             18.42\n",
       "Df Model:                           1                                         \n",
       "Covariance Type:            nonrobust                                         \n",
       "==============================================================================\n",
       "                 coef    std err          t      P>|t|      [0.025      0.975]\n",
       "------------------------------------------------------------------------------\n",
       "Intercept     14.5256      0.043    338.652      0.000      14.439      14.612\n",
       "year          -0.0389      0.003    -11.255      0.000      -0.046      -0.032\n",
       "==============================================================================\n",
       "Omnibus:                        0.216   Durbin-Watson:                   1.387\n",
       "Prob(Omnibus):                  0.897   Jarque-Bera (JB):                0.419\n",
       "Skew:                           0.016   Prob(JB):                        0.811\n",
       "Kurtosis:                       2.517   Cond. No.                         12.4\n",
       "==============================================================================\n",
       "\n",
       "Notes:\n",
       "[1] Standard Errors assume that the covariance matrix of the errors is correctly specified.\n",
       "\"\"\""
      ]
     },
     "execution_count": 250,
     "metadata": {},
     "output_type": "execute_result"
    }
   ],
   "source": [
    "ice4.year = ice4.year - 2000\n",
    "m = smf.ols(\"extent ~ year\", data = ice4).fit()\n",
    "m.summary()\n",
    "#DONT RUN AGAIN"
   ]
  },
  {
   "cell_type": "code",
   "execution_count": 248,
   "id": "0ef40aa7-e879-41b7-a35e-2f89f4454890",
   "metadata": {},
   "outputs": [
    {
     "data": {
      "image/png": "[encoded data removed]",
      "text/plain": [
       "<Figure size 432x288 with 1 Axes>"
      ]
     },
     "metadata": {
      "needs_background": "light"
     },
     "output_type": "display_data"
    }
   ],
   "source": [
    "_ = sns.regplot(x = \"year\", y = \"extent\",\n",
    "                line_kws = {\"color\":\"red\"}, data = ice4)"
   ]
  },
  {
   "cell_type": "markdown",
   "id": "c09b19c6-2767-484c-80fb-fa94893a0ae8",
   "metadata": {},
   "source": [
    "Using the regression line equation: y = -0.0389x + 14.5256 and plugging 0 in for y, we can see that with this data BOE would occur 373.4 years after the year 2000 (~2373)."
   ]
  },
  {
   "cell_type": "markdown",
   "id": "d50fbbf0-c3e2-4175-a874-9d0da0d1e7b1",
   "metadata": {},
   "source": [
    "## 2. How is Basketball Game Score Calculated?\n",
    "#### 1."
   ]
  },
  {
   "cell_type": "code",
   "execution_count": 375,
   "id": "423d4d15-2ed9-45b8-9034-e4c9ffb1333a",
   "metadata": {},
   "outputs": [
    {
     "data": {
      "text/html": [
       "<div>\n",
       "<style scoped>\n",
       "    .dataframe tbody tr th:only-of-type {\n",
       "        vertical-align: middle;\n",
       "    }\n",
       "\n",
       "    .dataframe tbody tr th {\n",
       "        vertical-align: top;\n",
       "    }\n",
       "\n",
       "    .dataframe thead th {\n",
       "        text-align: right;\n",
       "    }\n",
       "</style>\n",
       "<table border=\"1\" class=\"dataframe\">\n",
       "  <thead>\n",
       "    <tr style=\"text-align: right;\">\n",
       "      <th></th>\n",
       "      <th>Rk</th>\n",
       "      <th>G</th>\n",
       "      <th>Date</th>\n",
       "      <th>Age</th>\n",
       "      <th>Tm</th>\n",
       "      <th>Unnamed: 5</th>\n",
       "      <th>Opp</th>\n",
       "      <th>Unnamed: 7</th>\n",
       "      <th>GS</th>\n",
       "      <th>MP</th>\n",
       "      <th>...</th>\n",
       "      <th>DRB</th>\n",
       "      <th>TRB</th>\n",
       "      <th>AST</th>\n",
       "      <th>STL</th>\n",
       "      <th>BLK</th>\n",
       "      <th>TOV</th>\n",
       "      <th>PF</th>\n",
       "      <th>PTS</th>\n",
       "      <th>GmSc</th>\n",
       "      <th>+/-</th>\n",
       "    </tr>\n",
       "  </thead>\n",
       "  <tbody>\n",
       "    <tr>\n",
       "      <th>0</th>\n",
       "      <td>1</td>\n",
       "      <td>1.0</td>\n",
       "      <td>2018-10-17</td>\n",
       "      <td>29-052</td>\n",
       "      <td>HOU</td>\n",
       "      <td>NaN</td>\n",
       "      <td>NOP</td>\n",
       "      <td>L (-19)</td>\n",
       "      <td>1</td>\n",
       "      <td>34:43</td>\n",
       "      <td>...</td>\n",
       "      <td>7</td>\n",
       "      <td>9</td>\n",
       "      <td>10</td>\n",
       "      <td>3</td>\n",
       "      <td>1</td>\n",
       "      <td>4</td>\n",
       "      <td>2</td>\n",
       "      <td>18</td>\n",
       "      <td>18.9</td>\n",
       "      <td>-23</td>\n",
       "    </tr>\n",
       "    <tr>\n",
       "      <th>1</th>\n",
       "      <td>2</td>\n",
       "      <td>2.0</td>\n",
       "      <td>2018-10-20</td>\n",
       "      <td>29-055</td>\n",
       "      <td>HOU</td>\n",
       "      <td>@</td>\n",
       "      <td>LAL</td>\n",
       "      <td>W (+9)</td>\n",
       "      <td>1</td>\n",
       "      <td>37:50</td>\n",
       "      <td>...</td>\n",
       "      <td>6</td>\n",
       "      <td>7</td>\n",
       "      <td>5</td>\n",
       "      <td>2</td>\n",
       "      <td>1</td>\n",
       "      <td>6</td>\n",
       "      <td>2</td>\n",
       "      <td>36</td>\n",
       "      <td>27.0</td>\n",
       "      <td>-3</td>\n",
       "    </tr>\n",
       "    <tr>\n",
       "      <th>2</th>\n",
       "      <td>3</td>\n",
       "      <td>3.0</td>\n",
       "      <td>2018-10-21</td>\n",
       "      <td>29-056</td>\n",
       "      <td>HOU</td>\n",
       "      <td>@</td>\n",
       "      <td>LAC</td>\n",
       "      <td>L (-3)</td>\n",
       "      <td>1</td>\n",
       "      <td>39:45</td>\n",
       "      <td>...</td>\n",
       "      <td>4</td>\n",
       "      <td>4</td>\n",
       "      <td>14</td>\n",
       "      <td>2</td>\n",
       "      <td>0</td>\n",
       "      <td>3</td>\n",
       "      <td>1</td>\n",
       "      <td>31</td>\n",
       "      <td>26.4</td>\n",
       "      <td>+5</td>\n",
       "    </tr>\n",
       "    <tr>\n",
       "      <th>3</th>\n",
       "      <td>4</td>\n",
       "      <td>4.0</td>\n",
       "      <td>2018-10-24</td>\n",
       "      <td>29-059</td>\n",
       "      <td>HOU</td>\n",
       "      <td>NaN</td>\n",
       "      <td>UTA</td>\n",
       "      <td>L (-11)</td>\n",
       "      <td>1</td>\n",
       "      <td>31:38</td>\n",
       "      <td>...</td>\n",
       "      <td>4</td>\n",
       "      <td>5</td>\n",
       "      <td>7</td>\n",
       "      <td>1</td>\n",
       "      <td>0</td>\n",
       "      <td>7</td>\n",
       "      <td>4</td>\n",
       "      <td>29</td>\n",
       "      <td>17.7</td>\n",
       "      <td>-5</td>\n",
       "    </tr>\n",
       "    <tr>\n",
       "      <th>4</th>\n",
       "      <td>5</td>\n",
       "      <td>NaN</td>\n",
       "      <td>2018-10-26</td>\n",
       "      <td>29-061</td>\n",
       "      <td>HOU</td>\n",
       "      <td>NaN</td>\n",
       "      <td>LAC</td>\n",
       "      <td>L (-20)</td>\n",
       "      <td>Inactive</td>\n",
       "      <td>Inactive</td>\n",
       "      <td>...</td>\n",
       "      <td>Inactive</td>\n",
       "      <td>Inactive</td>\n",
       "      <td>Inactive</td>\n",
       "      <td>Inactive</td>\n",
       "      <td>Inactive</td>\n",
       "      <td>Inactive</td>\n",
       "      <td>Inactive</td>\n",
       "      <td>Inactive</td>\n",
       "      <td>Inactive</td>\n",
       "      <td>Inactive</td>\n",
       "    </tr>\n",
       "  </tbody>\n",
       "</table>\n",
       "<p>5 rows × 30 columns</p>\n",
       "</div>"
      ],
      "text/plain": [
       "   Rk    G        Date     Age   Tm Unnamed: 5  Opp Unnamed: 7        GS  \\\n",
       "0   1  1.0  2018-10-17  29-052  HOU        NaN  NOP    L (-19)         1   \n",
       "1   2  2.0  2018-10-20  29-055  HOU          @  LAL     W (+9)         1   \n",
       "2   3  3.0  2018-10-21  29-056  HOU          @  LAC     L (-3)         1   \n",
       "3   4  4.0  2018-10-24  29-059  HOU        NaN  UTA    L (-11)         1   \n",
       "4   5  NaN  2018-10-26  29-061  HOU        NaN  LAC    L (-20)  Inactive   \n",
       "\n",
       "         MP  ...       DRB       TRB       AST       STL       BLK       TOV  \\\n",
       "0     34:43  ...         7         9        10         3         1         4   \n",
       "1     37:50  ...         6         7         5         2         1         6   \n",
       "2     39:45  ...         4         4        14         2         0         3   \n",
       "3     31:38  ...         4         5         7         1         0         7   \n",
       "4  Inactive  ...  Inactive  Inactive  Inactive  Inactive  Inactive  Inactive   \n",
       "\n",
       "         PF       PTS      GmSc       +/-  \n",
       "0         2        18      18.9       -23  \n",
       "1         2        36      27.0        -3  \n",
       "2         1        31      26.4        +5  \n",
       "3         4        29      17.7        -5  \n",
       "4  Inactive  Inactive  Inactive  Inactive  \n",
       "\n",
       "[5 rows x 30 columns]"
      ]
     },
     "execution_count": 521,
     "metadata": {},
     "output_type": "execute_result"
    }
   ],
   "source": [
    "flop = pd.read_csv(\"../Data/harden-18-19.csv.bz2\")\n",
    "flop.head()"
   ]
  },
  {
   "cell_type": "markdown",
   "id": "873446fc-3721-4603-9876-700116c9d67b",
   "metadata": {
    "tags": []
   },
   "source": [
    "#### 2."
   ]
  },
  {
   "cell_type": "code",
   "execution_count": 266,
   "id": "4fdeda12-4e75-4a5c-b7f7-fbcd64063856",
   "metadata": {},
   "outputs": [
    {
     "data": {
      "text/plain": [
       "1           78\n",
       "Inactive     4\n",
       "Name: GS, dtype: int64"
      ]
     },
     "execution_count": 266,
     "metadata": {},
     "output_type": "execute_result"
    }
   ],
   "source": [
    "flop['GS'].value_counts()"
   ]
  },
  {
   "cell_type": "markdown",
   "id": "09ac4836-bdf0-4624-a3a7-4a74a2d48ae6",
   "metadata": {},
   "source": [
    "James Harden played 78 games and was inactive for 4 games throughout the 82 game regular season."
   ]
  },
  {
   "cell_type": "markdown",
   "id": "8e2061c2-d07f-4f2c-8630-9c1d58d2702b",
   "metadata": {},
   "source": [
    "#### 3."
   ]
  },
  {
   "cell_type": "code",
   "execution_count": 522,
   "id": "f4582e0c-6b40-44e9-83bd-4549a8099c17",
   "metadata": {},
   "outputs": [
    {
     "data": {
      "text/html": [
       "<div>\n",
       "<style scoped>\n",
       "    .dataframe tbody tr th:only-of-type {\n",
       "        vertical-align: middle;\n",
       "    }\n",
       "\n",
       "    .dataframe tbody tr th {\n",
       "        vertical-align: top;\n",
       "    }\n",
       "\n",
       "    .dataframe thead th {\n",
       "        text-align: right;\n",
       "    }\n",
       "</style>\n",
       "<table border=\"1\" class=\"dataframe\">\n",
       "  <thead>\n",
       "    <tr style=\"text-align: right;\">\n",
       "      <th></th>\n",
       "      <th>Rk</th>\n",
       "      <th>G</th>\n",
       "      <th>Date</th>\n",
       "      <th>Age</th>\n",
       "      <th>Tm</th>\n",
       "      <th>HomeAway</th>\n",
       "      <th>Opp</th>\n",
       "      <th>Outcome</th>\n",
       "      <th>GS</th>\n",
       "      <th>MP</th>\n",
       "      <th>...</th>\n",
       "      <th>DRB</th>\n",
       "      <th>TRB</th>\n",
       "      <th>AST</th>\n",
       "      <th>STL</th>\n",
       "      <th>BLK</th>\n",
       "      <th>TOV</th>\n",
       "      <th>PF</th>\n",
       "      <th>PTS</th>\n",
       "      <th>GmSc</th>\n",
       "      <th>+/-</th>\n",
       "    </tr>\n",
       "  </thead>\n",
       "  <tbody>\n",
       "    <tr>\n",
       "      <th>0</th>\n",
       "      <td>1</td>\n",
       "      <td>1.0</td>\n",
       "      <td>2018-10-17</td>\n",
       "      <td>29-052</td>\n",
       "      <td>HOU</td>\n",
       "      <td>1</td>\n",
       "      <td>NOP</td>\n",
       "      <td>0</td>\n",
       "      <td>1</td>\n",
       "      <td>34:43</td>\n",
       "      <td>...</td>\n",
       "      <td>7</td>\n",
       "      <td>9</td>\n",
       "      <td>10</td>\n",
       "      <td>3</td>\n",
       "      <td>1</td>\n",
       "      <td>4</td>\n",
       "      <td>2</td>\n",
       "      <td>18</td>\n",
       "      <td>18.9</td>\n",
       "      <td>-23</td>\n",
       "    </tr>\n",
       "    <tr>\n",
       "      <th>1</th>\n",
       "      <td>2</td>\n",
       "      <td>2.0</td>\n",
       "      <td>2018-10-20</td>\n",
       "      <td>29-055</td>\n",
       "      <td>HOU</td>\n",
       "      <td>0</td>\n",
       "      <td>LAL</td>\n",
       "      <td>1</td>\n",
       "      <td>1</td>\n",
       "      <td>37:50</td>\n",
       "      <td>...</td>\n",
       "      <td>6</td>\n",
       "      <td>7</td>\n",
       "      <td>5</td>\n",
       "      <td>2</td>\n",
       "      <td>1</td>\n",
       "      <td>6</td>\n",
       "      <td>2</td>\n",
       "      <td>36</td>\n",
       "      <td>27.0</td>\n",
       "      <td>-3</td>\n",
       "    </tr>\n",
       "    <tr>\n",
       "      <th>2</th>\n",
       "      <td>3</td>\n",
       "      <td>3.0</td>\n",
       "      <td>2018-10-21</td>\n",
       "      <td>29-056</td>\n",
       "      <td>HOU</td>\n",
       "      <td>0</td>\n",
       "      <td>LAC</td>\n",
       "      <td>0</td>\n",
       "      <td>1</td>\n",
       "      <td>39:45</td>\n",
       "      <td>...</td>\n",
       "      <td>4</td>\n",
       "      <td>4</td>\n",
       "      <td>14</td>\n",
       "      <td>2</td>\n",
       "      <td>0</td>\n",
       "      <td>3</td>\n",
       "      <td>1</td>\n",
       "      <td>31</td>\n",
       "      <td>26.4</td>\n",
       "      <td>+5</td>\n",
       "    </tr>\n",
       "    <tr>\n",
       "      <th>3</th>\n",
       "      <td>4</td>\n",
       "      <td>4.0</td>\n",
       "      <td>2018-10-24</td>\n",
       "      <td>29-059</td>\n",
       "      <td>HOU</td>\n",
       "      <td>1</td>\n",
       "      <td>UTA</td>\n",
       "      <td>0</td>\n",
       "      <td>1</td>\n",
       "      <td>31:38</td>\n",
       "      <td>...</td>\n",
       "      <td>4</td>\n",
       "      <td>5</td>\n",
       "      <td>7</td>\n",
       "      <td>1</td>\n",
       "      <td>0</td>\n",
       "      <td>7</td>\n",
       "      <td>4</td>\n",
       "      <td>29</td>\n",
       "      <td>17.7</td>\n",
       "      <td>-5</td>\n",
       "    </tr>\n",
       "    <tr>\n",
       "      <th>7</th>\n",
       "      <td>8</td>\n",
       "      <td>5.0</td>\n",
       "      <td>2018-11-03</td>\n",
       "      <td>29-069</td>\n",
       "      <td>HOU</td>\n",
       "      <td>0</td>\n",
       "      <td>CHI</td>\n",
       "      <td>1</td>\n",
       "      <td>1</td>\n",
       "      <td>33:16</td>\n",
       "      <td>...</td>\n",
       "      <td>1</td>\n",
       "      <td>1</td>\n",
       "      <td>7</td>\n",
       "      <td>4</td>\n",
       "      <td>0</td>\n",
       "      <td>8</td>\n",
       "      <td>3</td>\n",
       "      <td>25</td>\n",
       "      <td>15.1</td>\n",
       "      <td>+9</td>\n",
       "    </tr>\n",
       "  </tbody>\n",
       "</table>\n",
       "<p>5 rows × 30 columns</p>\n",
       "</div>"
      ],
      "text/plain": [
       "   Rk    G        Date     Age   Tm  HomeAway  Opp  Outcome GS     MP  ...  \\\n",
       "0   1  1.0  2018-10-17  29-052  HOU         1  NOP        0  1  34:43  ...   \n",
       "1   2  2.0  2018-10-20  29-055  HOU         0  LAL        1  1  37:50  ...   \n",
       "2   3  3.0  2018-10-21  29-056  HOU         0  LAC        0  1  39:45  ...   \n",
       "3   4  4.0  2018-10-24  29-059  HOU         1  UTA        0  1  31:38  ...   \n",
       "7   8  5.0  2018-11-03  29-069  HOU         0  CHI        1  1  33:16  ...   \n",
       "\n",
       "  DRB TRB AST STL BLK TOV PF PTS  GmSc  +/-  \n",
       "0   7   9  10   3   1   4  2  18  18.9  -23  \n",
       "1   6   7   5   2   1   6  2  36  27.0   -3  \n",
       "2   4   4  14   2   0   3  1  31  26.4   +5  \n",
       "3   4   5   7   1   0   7  4  29  17.7   -5  \n",
       "7   1   1   7   4   0   8  3  25  15.1   +9  \n",
       "\n",
       "[5 rows x 30 columns]"
      ]
     },
     "execution_count": 522,
     "metadata": {},
     "output_type": "execute_result"
    }
   ],
   "source": [
    "flop = flop.rename(columns={\"Unnamed: 7\": \"Outcome\", \"Unnamed: 5\": \"HomeAway\"})\n",
    "flop[\"HomeAway\"].replace({np.nan: 1, \"@\": 0}, inplace=True) # 1 represents home, 0 away\n",
    "flop.loc[flop['Outcome'].astype(str).str.contains('W', na=False), 'Outcome'] = \"1\"\n",
    "flop.loc[flop['Outcome'].astype(str).str.contains('L', na=False), 'Outcome'] = \"0\"  # 1 denotes a win, 0 represents a loss\n",
    "flop[\"Outcome\"] = pd.to_numeric(flop[\"Outcome\"])\n",
    "flop.replace({\"Inactive\": 0}, inplace=True) # inactive is now denoted as 0 in GS\n",
    "flop.rename(columns={\"Unnamed: 7\": \"Outcome\", \"Unnamed: 5\": \"Home/Away\"})\n",
    "flop = flop[flop['G'].notna()]\n",
    "flop['GmSc'] = pd.to_numeric(flop['GmSc'], errors='coerce')\n",
    "flop.head()"
   ]
  },
  {
   "cell_type": "markdown",
   "id": "4c5f9737-f415-4400-95f5-25de3cedaad8",
   "metadata": {},
   "source": [
    "#### 4."
   ]
  },
  {
   "cell_type": "code",
   "execution_count": 525,
   "id": "67890788-0619-4744-8438-631fdfe20c26",
   "metadata": {},
   "outputs": [
    {
     "data": {
      "image/png": "[encoded data removed]",
      "text/plain": [
       "<Figure size 432x288 with 1 Axes>"
      ]
     },
     "metadata": {
      "needs_background": "light"
     },
     "output_type": "display_data"
    }
   ],
   "source": [
    "Gscore = flop[[\"GmSc\",\"G\"]]\n",
    "Gscore['GmSc'] = pd.to_numeric(Gscore['GmSc'], errors='coerce')\n",
    "Gscore.set_index('G', inplace=True, drop=True)\n",
    "_ = plt.hist(Gscore, bins = 'auto', edgecolor = 'black')"
   ]
  },
  {
   "cell_type": "code",
   "execution_count": 526,
   "id": "00fb2ca1-e333-45d4-b20e-329e6422ca44",
   "metadata": {},
   "outputs": [
    {
     "name": "stdout",
     "output_type": "stream",
     "text": [
      "count    78.000000\n",
      "mean     26.708974\n",
      "std      10.053883\n",
      "min       1.200000\n",
      "25%      21.225000\n",
      "50%      25.800000\n",
      "75%      32.150000\n",
      "max      52.200000\n",
      "Name: GmSc, dtype: float64\n",
      "The range is:  51.0\n"
     ]
    }
   ],
   "source": [
    "print(Gscore.GmSc.describe()) # Stats \n",
    "print(\"The range is: \", Gscore.GmSc.max() - Gscore.GmSc.min())"
   ]
  },
  {
   "cell_type": "markdown",
   "id": "24f111a0-e3c6-4344-a0f5-5ed68d02b601",
   "metadata": {},
   "source": [
    "Histogram looks fairly normal to me!"
   ]
  },
  {
   "cell_type": "markdown",
   "id": "ee8c37c5-410d-4aca-bafe-2e43ee05bab7",
   "metadata": {},
   "source": [
    "#### 5."
   ]
  },
  {
   "cell_type": "code",
   "execution_count": 527,
   "id": "e3a0e370-ced1-4e00-bce6-1d14f34742e1",
   "metadata": {},
   "outputs": [
    {
     "data": {
      "text/html": [
       "<table class=\"simpletable\">\n",
       "<caption>OLS Regression Results</caption>\n",
       "<tr>\n",
       "  <th>Dep. Variable:</th>          <td>GmSc</td>       <th>  R-squared:         </th> <td>   0.151</td>\n",
       "</tr>\n",
       "<tr>\n",
       "  <th>Model:</th>                   <td>OLS</td>       <th>  Adj. R-squared:    </th> <td>   0.140</td>\n",
       "</tr>\n",
       "<tr>\n",
       "  <th>Method:</th>             <td>Least Squares</td>  <th>  F-statistic:       </th> <td>   13.54</td>\n",
       "</tr>\n",
       "<tr>\n",
       "  <th>Date:</th>             <td>Mon, 21 Feb 2022</td> <th>  Prob (F-statistic):</th> <td>0.000433</td>\n",
       "</tr>\n",
       "<tr>\n",
       "  <th>Time:</th>                 <td>06:58:52</td>     <th>  Log-Likelihood:    </th> <td> -283.80</td>\n",
       "</tr>\n",
       "<tr>\n",
       "  <th>No. Observations:</th>      <td>    78</td>      <th>  AIC:               </th> <td>   571.6</td>\n",
       "</tr>\n",
       "<tr>\n",
       "  <th>Df Residuals:</th>          <td>    76</td>      <th>  BIC:               </th> <td>   576.3</td>\n",
       "</tr>\n",
       "<tr>\n",
       "  <th>Df Model:</th>              <td>     1</td>      <th>                     </th>     <td> </td>   \n",
       "</tr>\n",
       "<tr>\n",
       "  <th>Covariance Type:</th>      <td>nonrobust</td>    <th>                     </th>     <td> </td>   \n",
       "</tr>\n",
       "</table>\n",
       "<table class=\"simpletable\">\n",
       "<tr>\n",
       "      <td></td>         <th>coef</th>     <th>std err</th>      <th>t</th>      <th>P>|t|</th>  <th>[0.025</th>    <th>0.975]</th>  \n",
       "</tr>\n",
       "<tr>\n",
       "  <th>Intercept</th> <td>   11.5963</td> <td>    4.240</td> <td>    2.735</td> <td> 0.008</td> <td>    3.152</td> <td>   20.041</td>\n",
       "</tr>\n",
       "<tr>\n",
       "  <th>FGA</th>       <td>    0.6175</td> <td>    0.168</td> <td>    3.680</td> <td> 0.000</td> <td>    0.283</td> <td>    0.952</td>\n",
       "</tr>\n",
       "</table>\n",
       "<table class=\"simpletable\">\n",
       "<tr>\n",
       "  <th>Omnibus:</th>       <td> 0.602</td> <th>  Durbin-Watson:     </th> <td>   1.884</td>\n",
       "</tr>\n",
       "<tr>\n",
       "  <th>Prob(Omnibus):</th> <td> 0.740</td> <th>  Jarque-Bera (JB):  </th> <td>   0.739</td>\n",
       "</tr>\n",
       "<tr>\n",
       "  <th>Skew:</th>          <td>-0.137</td> <th>  Prob(JB):          </th> <td>   0.691</td>\n",
       "</tr>\n",
       "<tr>\n",
       "  <th>Kurtosis:</th>      <td> 2.609</td> <th>  Cond. No.          </th> <td>    102.</td>\n",
       "</tr>\n",
       "</table><br/><br/>Notes:<br/>[1] Standard Errors assume that the covariance matrix of the errors is correctly specified."
      ],
      "text/plain": [
       "<class 'statsmodels.iolib.summary.Summary'>\n",
       "\"\"\"\n",
       "                            OLS Regression Results                            \n",
       "==============================================================================\n",
       "Dep. Variable:                   GmSc   R-squared:                       0.151\n",
       "Model:                            OLS   Adj. R-squared:                  0.140\n",
       "Method:                 Least Squares   F-statistic:                     13.54\n",
       "Date:                Mon, 21 Feb 2022   Prob (F-statistic):           0.000433\n",
       "Time:                        06:58:52   Log-Likelihood:                -283.80\n",
       "No. Observations:                  78   AIC:                             571.6\n",
       "Df Residuals:                      76   BIC:                             576.3\n",
       "Df Model:                           1                                         \n",
       "Covariance Type:            nonrobust                                         \n",
       "==============================================================================\n",
       "                 coef    std err          t      P>|t|      [0.025      0.975]\n",
       "------------------------------------------------------------------------------\n",
       "Intercept     11.5963      4.240      2.735      0.008       3.152      20.041\n",
       "FGA            0.6175      0.168      3.680      0.000       0.283       0.952\n",
       "==============================================================================\n",
       "Omnibus:                        0.602   Durbin-Watson:                   1.884\n",
       "Prob(Omnibus):                  0.740   Jarque-Bera (JB):                0.739\n",
       "Skew:                          -0.137   Prob(JB):                        0.691\n",
       "Kurtosis:                       2.609   Cond. No.                         102.\n",
       "==============================================================================\n",
       "\n",
       "Notes:\n",
       "[1] Standard Errors assume that the covariance matrix of the errors is correctly specified.\n",
       "\"\"\""
      ]
     },
     "execution_count": 527,
     "metadata": {},
     "output_type": "execute_result"
    }
   ],
   "source": [
    "fig5 = flop[[\"GmSc\",\"G\", \"FGA\"]]\n",
    "fig5['FGA'] = pd.to_numeric(fig5['FGA'], errors='coerce')\n",
    "fig5.set_index('G', inplace=True, drop=True)\n",
    "m = smf.ols(\"GmSc ~ FGA\", data = fig5).fit()\n",
    "m.summary()"
   ]
  },
  {
   "cell_type": "markdown",
   "id": "36add5c5-3283-403f-8d40-2d15bd091910",
   "metadata": {},
   "source": [
    "*Figure 5*\n",
    "\n",
    "- (a). The intercept here represents James Hardens' game score when he has 0 FGA.\n",
    "- (b). FGA represents the change in James Hardens' game score when he attempts x amount of field goals in a game (GmSc goes up 0.6175 per FGA), this value is statistically significant."
   ]
  },
  {
   "cell_type": "markdown",
   "id": "0ebd0769-6728-40ed-a994-f0ec4f898089",
   "metadata": {},
   "source": [
    "#### 6."
   ]
  },
  {
   "cell_type": "code",
   "execution_count": 529,
   "id": "9fc1291c-005e-4a7c-a5c2-40c9c3652542",
   "metadata": {},
   "outputs": [
    {
     "data": {
      "text/html": [
       "<table class=\"simpletable\">\n",
       "<caption>OLS Regression Results</caption>\n",
       "<tr>\n",
       "  <th>Dep. Variable:</th>          <td>GmSc</td>       <th>  R-squared:         </th> <td>   0.573</td>\n",
       "</tr>\n",
       "<tr>\n",
       "  <th>Model:</th>                   <td>OLS</td>       <th>  Adj. R-squared:    </th> <td>   0.562</td>\n",
       "</tr>\n",
       "<tr>\n",
       "  <th>Method:</th>             <td>Least Squares</td>  <th>  F-statistic:       </th> <td>   50.42</td>\n",
       "</tr>\n",
       "<tr>\n",
       "  <th>Date:</th>             <td>Mon, 21 Feb 2022</td> <th>  Prob (F-statistic):</th> <td>1.33e-14</td>\n",
       "</tr>\n",
       "<tr>\n",
       "  <th>Time:</th>                 <td>06:59:00</td>     <th>  Log-Likelihood:    </th> <td> -256.97</td>\n",
       "</tr>\n",
       "<tr>\n",
       "  <th>No. Observations:</th>      <td>    78</td>      <th>  AIC:               </th> <td>   519.9</td>\n",
       "</tr>\n",
       "<tr>\n",
       "  <th>Df Residuals:</th>          <td>    75</td>      <th>  BIC:               </th> <td>   527.0</td>\n",
       "</tr>\n",
       "<tr>\n",
       "  <th>Df Model:</th>              <td>     2</td>      <th>                     </th>     <td> </td>   \n",
       "</tr>\n",
       "<tr>\n",
       "  <th>Covariance Type:</th>      <td>nonrobust</td>    <th>                     </th>     <td> </td>   \n",
       "</tr>\n",
       "</table>\n",
       "<table class=\"simpletable\">\n",
       "<tr>\n",
       "      <td></td>         <th>coef</th>     <th>std err</th>      <th>t</th>      <th>P>|t|</th>  <th>[0.025</th>    <th>0.975]</th>  \n",
       "</tr>\n",
       "<tr>\n",
       "  <th>Intercept</th> <td>    6.8608</td> <td>    3.075</td> <td>    2.231</td> <td> 0.029</td> <td>    0.735</td> <td>   12.987</td>\n",
       "</tr>\n",
       "<tr>\n",
       "  <th>FG</th>        <td>    3.4082</td> <td>    0.396</td> <td>    8.616</td> <td> 0.000</td> <td>    2.620</td> <td>    4.196</td>\n",
       "</tr>\n",
       "<tr>\n",
       "  <th>FGA</th>       <td>   -0.6940</td> <td>    0.194</td> <td>   -3.584</td> <td> 0.001</td> <td>   -1.080</td> <td>   -0.308</td>\n",
       "</tr>\n",
       "</table>\n",
       "<table class=\"simpletable\">\n",
       "<tr>\n",
       "  <th>Omnibus:</th>       <td> 2.958</td> <th>  Durbin-Watson:     </th> <td>   1.880</td>\n",
       "</tr>\n",
       "<tr>\n",
       "  <th>Prob(Omnibus):</th> <td> 0.228</td> <th>  Jarque-Bera (JB):  </th> <td>   1.904</td>\n",
       "</tr>\n",
       "<tr>\n",
       "  <th>Skew:</th>          <td> 0.154</td> <th>  Prob(JB):          </th> <td>   0.386</td>\n",
       "</tr>\n",
       "<tr>\n",
       "  <th>Kurtosis:</th>      <td> 2.299</td> <th>  Cond. No.          </th> <td>    113.</td>\n",
       "</tr>\n",
       "</table><br/><br/>Notes:<br/>[1] Standard Errors assume that the covariance matrix of the errors is correctly specified."
      ],
      "text/plain": [
       "<class 'statsmodels.iolib.summary.Summary'>\n",
       "\"\"\"\n",
       "                            OLS Regression Results                            \n",
       "==============================================================================\n",
       "Dep. Variable:                   GmSc   R-squared:                       0.573\n",
       "Model:                            OLS   Adj. R-squared:                  0.562\n",
       "Method:                 Least Squares   F-statistic:                     50.42\n",
       "Date:                Mon, 21 Feb 2022   Prob (F-statistic):           1.33e-14\n",
       "Time:                        06:59:00   Log-Likelihood:                -256.97\n",
       "No. Observations:                  78   AIC:                             519.9\n",
       "Df Residuals:                      75   BIC:                             527.0\n",
       "Df Model:                           2                                         \n",
       "Covariance Type:            nonrobust                                         \n",
       "==============================================================================\n",
       "                 coef    std err          t      P>|t|      [0.025      0.975]\n",
       "------------------------------------------------------------------------------\n",
       "Intercept      6.8608      3.075      2.231      0.029       0.735      12.987\n",
       "FG             3.4082      0.396      8.616      0.000       2.620       4.196\n",
       "FGA           -0.6940      0.194     -3.584      0.001      -1.080      -0.308\n",
       "==============================================================================\n",
       "Omnibus:                        2.958   Durbin-Watson:                   1.880\n",
       "Prob(Omnibus):                  0.228   Jarque-Bera (JB):                1.904\n",
       "Skew:                           0.154   Prob(JB):                        0.386\n",
       "Kurtosis:                       2.299   Cond. No.                         113.\n",
       "==============================================================================\n",
       "\n",
       "Notes:\n",
       "[1] Standard Errors assume that the covariance matrix of the errors is correctly specified.\n",
       "\"\"\""
      ]
     },
     "execution_count": 529,
     "metadata": {},
     "output_type": "execute_result"
    }
   ],
   "source": [
    "fig6 = flop[[\"GmSc\",\"G\", \"FGA\", \"FG\"]]\n",
    "fig6['FGA'] = pd.to_numeric(fig6['FGA'], errors='coerce')\n",
    "fig6['FG'] = pd.to_numeric(fig6['FG'], errors='coerce')\n",
    "fig6.set_index('G', inplace=True, drop=True)\n",
    "m = smf.ols(\"GmSc ~ FG + FGA\", data = fig6).fit()\n",
    "m.summary()"
   ]
  },
  {
   "cell_type": "markdown",
   "id": "7130fb6a-c4b5-4d59-9e23-58ed9121b110",
   "metadata": {},
   "source": [
    "*Figure 6*\n",
    "\n",
    "- (a). FG represents the change in James Hardens' game score per FG made (GmSc goes up 3.4082 per FG made). This value is statistically significant.\n",
    "- (b). FGA represents the change in James Hardens' game score when he attempts x amount of field goals in a game (GmSc goes down 0.6940 per FGA), this value is statistically significant.\n",
    "- (c). FG's are made baskets, meaning James Harden didn't miss. With FGA there's the chance that he will miss the basket. When there are 2 factors affecting GmSc in this model, FGA is not as influential as it was in model 5.\n",
    "- (d). R^2 = 0.562, compared to model 5 R^2: 0.14. Since the R^2 of model 6 ishigher, it is a much better and more accurate model to predict GmSc."
   ]
  },
  {
   "cell_type": "markdown",
   "id": "1227a4d6-4447-4190-b54a-7c7f1bba24cf",
   "metadata": {},
   "source": [
    "#### 7."
   ]
  },
  {
   "cell_type": "code",
   "execution_count": 542,
   "id": "f586cfcf-57bd-4f42-b591-a81a654f8a76",
   "metadata": {},
   "outputs": [
    {
     "data": {
      "text/html": [
       "<table class=\"simpletable\">\n",
       "<caption>OLS Regression Results</caption>\n",
       "<tr>\n",
       "  <th>Dep. Variable:</th>          <td>GmSc</td>       <th>  R-squared:         </th> <td>   1.000</td> \n",
       "</tr>\n",
       "<tr>\n",
       "  <th>Model:</th>                   <td>OLS</td>       <th>  Adj. R-squared:    </th> <td>   1.000</td> \n",
       "</tr>\n",
       "<tr>\n",
       "  <th>Method:</th>             <td>Least Squares</td>  <th>  F-statistic:       </th> <td>6.972e+28</td>\n",
       "</tr>\n",
       "<tr>\n",
       "  <th>Date:</th>             <td>Mon, 21 Feb 2022</td> <th>  Prob (F-statistic):</th>  <td>  0.00</td>  \n",
       "</tr>\n",
       "<tr>\n",
       "  <th>Time:</th>                 <td>07:06:44</td>     <th>  Log-Likelihood:    </th> <td>  2237.8</td> \n",
       "</tr>\n",
       "<tr>\n",
       "  <th>No. Observations:</th>      <td>    78</td>      <th>  AIC:               </th> <td>  -4448.</td> \n",
       "</tr>\n",
       "<tr>\n",
       "  <th>Df Residuals:</th>          <td>    64</td>      <th>  BIC:               </th> <td>  -4415.</td> \n",
       "</tr>\n",
       "<tr>\n",
       "  <th>Df Model:</th>              <td>    13</td>      <th>                     </th>     <td> </td>    \n",
       "</tr>\n",
       "<tr>\n",
       "  <th>Covariance Type:</th>      <td>nonrobust</td>    <th>                     </th>     <td> </td>    \n",
       "</tr>\n",
       "</table>\n",
       "<table class=\"simpletable\">\n",
       "<tr>\n",
       "      <td></td>         <th>coef</th>     <th>std err</th>      <th>t</th>      <th>P>|t|</th>  <th>[0.025</th>    <th>0.975]</th>  \n",
       "</tr>\n",
       "<tr>\n",
       "  <th>Intercept</th> <td>-3.553e-15</td> <td> 6.57e-14</td> <td>   -0.054</td> <td> 0.957</td> <td>-1.35e-13</td> <td> 1.28e-13</td>\n",
       "</tr>\n",
       "<tr>\n",
       "  <th>FG</th>        <td>    2.4000</td> <td> 7.96e-15</td> <td> 3.02e+14</td> <td> 0.000</td> <td>    2.400</td> <td>    2.400</td>\n",
       "</tr>\n",
       "<tr>\n",
       "  <th>FGA</th>       <td>   -0.7000</td> <td>  4.6e-15</td> <td>-1.52e+14</td> <td> 0.000</td> <td>   -0.700</td> <td>   -0.700</td>\n",
       "</tr>\n",
       "<tr>\n",
       "  <th>ThreeP</th>    <td>    1.0000</td> <td> 8.87e-15</td> <td> 1.13e+14</td> <td> 0.000</td> <td>    1.000</td> <td>    1.000</td>\n",
       "</tr>\n",
       "<tr>\n",
       "  <th>ThreePA</th>   <td>-6.661e-16</td> <td> 5.99e-15</td> <td>   -0.111</td> <td> 0.912</td> <td>-1.26e-14</td> <td> 1.13e-14</td>\n",
       "</tr>\n",
       "<tr>\n",
       "  <th>FT</th>        <td>    1.4000</td> <td> 1.05e-14</td> <td> 1.34e+14</td> <td> 0.000</td> <td>    1.400</td> <td>    1.400</td>\n",
       "</tr>\n",
       "<tr>\n",
       "  <th>FTA</th>       <td>   -0.4000</td> <td> 9.45e-15</td> <td>-4.23e+13</td> <td> 0.000</td> <td>   -0.400</td> <td>   -0.400</td>\n",
       "</tr>\n",
       "<tr>\n",
       "  <th>ORB</th>       <td>    0.7000</td> <td> 1.23e-14</td> <td> 5.71e+13</td> <td> 0.000</td> <td>    0.700</td> <td>    0.700</td>\n",
       "</tr>\n",
       "<tr>\n",
       "  <th>DRB</th>       <td>    0.3000</td> <td> 4.59e-15</td> <td> 6.54e+13</td> <td> 0.000</td> <td>    0.300</td> <td>    0.300</td>\n",
       "</tr>\n",
       "<tr>\n",
       "  <th>AST</th>       <td>    0.7000</td> <td> 3.42e-15</td> <td> 2.04e+14</td> <td> 0.000</td> <td>    0.700</td> <td>    0.700</td>\n",
       "</tr>\n",
       "<tr>\n",
       "  <th>STL</th>       <td>    1.0000</td> <td> 7.81e-15</td> <td> 1.28e+14</td> <td> 0.000</td> <td>    1.000</td> <td>    1.000</td>\n",
       "</tr>\n",
       "<tr>\n",
       "  <th>BLK</th>       <td>    0.7000</td> <td> 1.42e-14</td> <td> 4.92e+13</td> <td> 0.000</td> <td>    0.700</td> <td>    0.700</td>\n",
       "</tr>\n",
       "<tr>\n",
       "  <th>TOV</th>       <td>   -1.0000</td> <td> 5.79e-15</td> <td>-1.73e+14</td> <td> 0.000</td> <td>   -1.000</td> <td>   -1.000</td>\n",
       "</tr>\n",
       "<tr>\n",
       "  <th>PF</th>        <td>   -0.4000</td> <td> 8.78e-15</td> <td>-4.56e+13</td> <td> 0.000</td> <td>   -0.400</td> <td>   -0.400</td>\n",
       "</tr>\n",
       "</table>\n",
       "<table class=\"simpletable\">\n",
       "<tr>\n",
       "  <th>Omnibus:</th>       <td> 2.348</td> <th>  Durbin-Watson:     </th> <td>   0.127</td>\n",
       "</tr>\n",
       "<tr>\n",
       "  <th>Prob(Omnibus):</th> <td> 0.309</td> <th>  Jarque-Bera (JB):  </th> <td>   1.590</td>\n",
       "</tr>\n",
       "<tr>\n",
       "  <th>Skew:</th>          <td>-0.107</td> <th>  Prob(JB):          </th> <td>   0.451</td>\n",
       "</tr>\n",
       "<tr>\n",
       "  <th>Kurtosis:</th>      <td> 2.334</td> <th>  Cond. No.          </th> <td>    228.</td>\n",
       "</tr>\n",
       "</table><br/><br/>Notes:<br/>[1] Standard Errors assume that the covariance matrix of the errors is correctly specified."
      ],
      "text/plain": [
       "<class 'statsmodels.iolib.summary.Summary'>\n",
       "\"\"\"\n",
       "                            OLS Regression Results                            \n",
       "==============================================================================\n",
       "Dep. Variable:                   GmSc   R-squared:                       1.000\n",
       "Model:                            OLS   Adj. R-squared:                  1.000\n",
       "Method:                 Least Squares   F-statistic:                 6.972e+28\n",
       "Date:                Mon, 21 Feb 2022   Prob (F-statistic):               0.00\n",
       "Time:                        07:06:44   Log-Likelihood:                 2237.8\n",
       "No. Observations:                  78   AIC:                            -4448.\n",
       "Df Residuals:                      64   BIC:                            -4415.\n",
       "Df Model:                          13                                         \n",
       "Covariance Type:            nonrobust                                         \n",
       "==============================================================================\n",
       "                 coef    std err          t      P>|t|      [0.025      0.975]\n",
       "------------------------------------------------------------------------------\n",
       "Intercept  -3.553e-15   6.57e-14     -0.054      0.957   -1.35e-13    1.28e-13\n",
       "FG             2.4000   7.96e-15   3.02e+14      0.000       2.400       2.400\n",
       "FGA           -0.7000    4.6e-15  -1.52e+14      0.000      -0.700      -0.700\n",
       "ThreeP         1.0000   8.87e-15   1.13e+14      0.000       1.000       1.000\n",
       "ThreePA    -6.661e-16   5.99e-15     -0.111      0.912   -1.26e-14    1.13e-14\n",
       "FT             1.4000   1.05e-14   1.34e+14      0.000       1.400       1.400\n",
       "FTA           -0.4000   9.45e-15  -4.23e+13      0.000      -0.400      -0.400\n",
       "ORB            0.7000   1.23e-14   5.71e+13      0.000       0.700       0.700\n",
       "DRB            0.3000   4.59e-15   6.54e+13      0.000       0.300       0.300\n",
       "AST            0.7000   3.42e-15   2.04e+14      0.000       0.700       0.700\n",
       "STL            1.0000   7.81e-15   1.28e+14      0.000       1.000       1.000\n",
       "BLK            0.7000   1.42e-14   4.92e+13      0.000       0.700       0.700\n",
       "TOV           -1.0000   5.79e-15  -1.73e+14      0.000      -1.000      -1.000\n",
       "PF            -0.4000   8.78e-15  -4.56e+13      0.000      -0.400      -0.400\n",
       "==============================================================================\n",
       "Omnibus:                        2.348   Durbin-Watson:                   0.127\n",
       "Prob(Omnibus):                  0.309   Jarque-Bera (JB):                1.590\n",
       "Skew:                          -0.107   Prob(JB):                        0.451\n",
       "Kurtosis:                       2.334   Cond. No.                         228.\n",
       "==============================================================================\n",
       "\n",
       "Notes:\n",
       "[1] Standard Errors assume that the covariance matrix of the errors is correctly specified.\n",
       "\"\"\""
      ]
     },
     "execution_count": 542,
     "metadata": {},
     "output_type": "execute_result"
    }
   ],
   "source": [
    "fig7 = flop[[\"GmSc\",\"G\", \"FGA\", \"FG\", \"3P\", \"3PA\", \"FT\", \"FTA\", \"ORB\", \"DRB\", \"AST\", \"STL\", \"BLK\", \"TOV\", \"PF\"]]\n",
    "fig7.rename(columns={\"3P\": \"ThreeP\", \"3PA\": \"ThreePA\"})\n",
    "fig7['FGA'] = pd.to_numeric(fig7['FGA'], errors='coerce')\n",
    "fig7['FG'] = pd.to_numeric(fig7['FG'], errors='coerce')\n",
    "fig7['ThreeP'] = pd.to_numeric(fig7['3P'], errors='coerce')\n",
    "fig7['ThreePA'] = pd.to_numeric(fig7['3PA'], errors='coerce')\n",
    "fig7['FT'] = pd.to_numeric(fig7['FT'], errors='coerce')\n",
    "fig7['FTA'] = pd.to_numeric(fig7['FTA'], errors='coerce')\n",
    "fig7['ORB'] = pd.to_numeric(fig7['ORB'], errors='coerce')\n",
    "fig7['DRB'] = pd.to_numeric(fig7['DRB'], errors='coerce')\n",
    "fig7['AST'] = pd.to_numeric(fig7['AST'], errors='coerce')\n",
    "fig7['STL'] = pd.to_numeric(fig7['STL'], errors='coerce')\n",
    "fig7['BLK'] = pd.to_numeric(fig7['BLK'], errors='coerce')\n",
    "fig7['TOV'] = pd.to_numeric(fig7['TOV'], errors='coerce')\n",
    "fig7['PF'] = pd.to_numeric(fig7['PF'], errors='coerce')\n",
    "fig7.set_index('G', inplace=True, drop=True)\n",
    "m = smf.ols(\"GmSc ~ FG + FGA + ThreeP + ThreePA + FT + FTA + ORB + DRB + AST + STL + BLK + TOV + PF\", data = fig7).fit()\n",
    "m.summary()"
   ]
  },
  {
   "cell_type": "markdown",
   "id": "3432c179-71fa-486c-bc58-82ec0c7228f6",
   "metadata": {},
   "source": [
    "- (a). Standard errors are all very small. The T-values are also mostly all very small, the largest t value is 0.111 for 3 point attempts.\n",
    "- (b). The R^2 is 1, which means the model can predict everything. This tells us that GmSc takes all these x values into consideration.\n",
    "- (c). Turnovers are bad for the team, and are also bad for indiviual game score. You never want to turn the ball over."
   ]
  },
  {
   "cell_type": "markdown",
   "id": "30e1346a-1bc3-482a-b233-8940599756a4",
   "metadata": {},
   "source": [
    "#### 8.\n",
    "The formula is the same except for the fact that we have 3pt stats in our model and the explanation doesn't."
   ]
  },
  {
   "cell_type": "markdown",
   "id": "abb521f7-19ed-4543-8749-300b92c917ad",
   "metadata": {},
   "source": [
    "## 3. Interpret Regression Results in the Literature"
   ]
  },
  {
   "cell_type": "markdown",
   "id": "5894d928-701f-4504-9458-0cc43e8e2bb8",
   "metadata": {},
   "source": [
    "#### 1.\n",
    "Those who have partners have better mental health, although it isn't statistically significant.\n",
    "#### 2.\n",
    "COVID exposure means worse mental health, and this number is not significant.\n",
    "#### 3.\n",
    "Financial distress is much worse for mental health, and this number is statistically significant."
   ]
  },
  {
   "cell_type": "markdown",
   "id": "47adce0f-d535-440d-bcee-4ce7766f9ba4",
   "metadata": {},
   "source": [
    "I spent 5 hours on this problem set."
   ]
  },
  {
   "cell_type": "code",
   "execution_count": null,
   "id": "cf1e1928-8237-41b5-9a7c-8ab8fd4fed81",
   "metadata": {},
   "outputs": [],
   "source": []
  }
 ],
 "metadata": {
  "kernelspec": {
   "display_name": "Python 3 (ipykernel)",
   "language": "python",
   "name": "python3"
  },
  "language_info": {
   "codemirror_mode": {
    "name": "ipython",
    "version": 3
   },
   "file_extension": ".py",
   "mimetype": "text/x-python",
   "name": "python",
   "nbconvert_exporter": "python",
   "pygments_lexer": "ipython3",
   "version": "3.9.7"
  }
 },
 "nbformat": 4,
 "nbformat_minor": 5
}
